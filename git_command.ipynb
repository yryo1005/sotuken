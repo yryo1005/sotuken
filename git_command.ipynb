{
 "cells": [
  {
   "cell_type": "code",
   "execution_count": 6,
   "metadata": {},
   "outputs": [
    {
     "name": "stdout",
     "output_type": "stream",
     "text": [
      "remote: Enumerating objects: 5, done.\u001b[K\n",
      "remote: Counting objects: 100% (5/5), done.\u001b[K\n",
      "remote: Compressing objects: 100% (2/2), done.\u001b[K\n",
      "remote: Total 3 (delta 1), reused 0 (delta 0), pack-reused 0\u001b[K\n",
      "Unpacking objects: 100% (3/3), done.\n",
      "From https://github.com/K-nelt/sotuken\n",
      " * branch            main       -> FETCH_HEAD\n",
      "   42a2b1d..ea94fce  main       -> origin/main\n",
      "Auto-merging aaa\n",
      "CONFLICT (content): Merge conflict in aaa\n",
      "Automatic merge failed; fix conflicts and then commit the result.\n"
     ]
    }
   ],
   "source": [
    "!git pull origin main"
   ]
  },
  {
   "cell_type": "code",
   "execution_count": 1,
   "metadata": {},
   "outputs": [
    {
     "name": "stdout",
     "output_type": "stream",
     "text": [
      "[main 3bc124a] {}\n",
      " Committer: 川又翔 <kawamatashou@kawamatashounoMacBook-Pro.local>\n",
      "Your name and email address were configured automatically based\n",
      "on your username and hostname. Please check that they are accurate.\n",
      "You can suppress this message by setting them explicitly. Run the\n",
      "following command and follow the instructions in your editor to edit\n",
      "your configuration file:\n",
      "\n",
      "    git config --global --edit\n",
      "\n",
      "After doing this, you may fix the identity used for this commit with:\n",
      "\n",
      "    git commit --amend --reset-author\n",
      "\n",
      " 14 files changed, 48228 insertions(+), 21884 deletions(-)\n",
      " rewrite 002.ipynb (66%)\n",
      " create mode 100644 003.ipynb\n",
      " create mode 100644 data_make.ipynb\n",
      " create mode 100644 dataset/cs_price.csv\n",
      " create mode 100644 dataset/csgo_dataset1.csv\n",
      " create mode 100644 dataset/csgo_dataset1.xlsx\n",
      " create mode 100644 dataset/csgo_dataset2.csv\n",
      " create mode 100644 dataset/csgo_dataset2.xlsx\n",
      " create mode 100644 dataset/csgo_player.csv\n",
      " create mode 100644 dataset/steam_online.csv\n",
      " rewrite model.h5 (74%)\n",
      " create mode 100644 scraping_update001.ipynb\n",
      "Counting objects: 17, done.\n",
      "Delta compression using up to 8 threads.\n",
      "Compressing objects: 100% (17/17), done.\n",
      "Writing objects: 100% (17/17), 2.36 MiB | 1.16 MiB/s, done.\n",
      "Total 17 (delta 5), reused 0 (delta 0)\n",
      "remote: Resolving deltas: 100% (5/5), completed with 3 local objects.\u001b[K\n",
      "To https://github.com/K-nelt/sotuken.git\n",
      "   e965b1b..3bc124a  main -> main\n"
     ]
    }
   ],
   "source": [
    "# 内容変更の後にやる\n",
    "!git add .\n",
    "!now=$(date +\"%Y%m%d%I%M\")\n",
    "!git commit -m \"{$now}\"\n",
    "!git push"
   ]
  },
  {
   "cell_type": "code",
   "execution_count": 2,
   "metadata": {},
   "outputs": [
    {
     "name": "stdout",
     "output_type": "stream",
     "text": [
      "remote: Enumerating objects: 9, done.\u001b[K\n",
      "remote: Counting objects: 100% (8/8), done.\u001b[K\n",
      "remote: Compressing objects: 100% (3/3), done.\u001b[K\n",
      "remote: Total 5 (delta 2), reused 3 (delta 2), pack-reused 0\u001b[K\n",
      "Unpacking objects: 100% (5/5), done.\n",
      "From https://github.com/K-nelt/sotuken\n",
      " * branch            main       -> FETCH_HEAD\n",
      "Updating 5651605..24fb325\n",
      "Fast-forward\n",
      " bbb               |  0\n",
      " git_command.ipynb | 10 \u001b[32m+++++\u001b[m\u001b[31m-----\u001b[m\n",
      " 2 files changed, 5 insertions(+), 5 deletions(-)\n",
      " create mode 100644 bbb\n"
     ]
    }
   ],
   "source": [
    "# 変更の更新\n",
    "!git pull https://github.com/K-nelt/sotuken.git main"
   ]
  }
 ],
 "metadata": {
  "kernelspec": {
   "display_name": "tf210_2",
   "language": "python",
   "name": "python3"
  },
  "language_info": {
   "codemirror_mode": {
    "name": "ipython",
    "version": 3
   },
   "file_extension": ".py",
   "mimetype": "text/x-python",
   "name": "python",
   "nbconvert_exporter": "python",
   "pygments_lexer": "ipython3",
   "version": "3.9.18"
  },
  "orig_nbformat": 4
 },
 "nbformat": 4,
 "nbformat_minor": 2
}
