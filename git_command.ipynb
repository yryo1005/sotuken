{
 "cells": [
  {
   "cell_type": "code",
   "execution_count": 20,
   "metadata": {},
   "outputs": [
    {
     "name": "stdout",
     "output_type": "stream",
     "text": [
      "remote: Enumerating objects: 5, done.\u001b[K\n",
      "remote: Counting objects: 100% (5/5), done.\u001b[K\n",
      "remote: Compressing objects: 100% (3/3), done.\u001b[K\n",
      "remote: Total 3 (delta 1), reused 0 (delta 0), pack-reused 0\u001b[K\n",
      "Unpacking objects: 100% (3/3), 872 bytes | 290.00 KiB/s, done.\n",
      "From https://github.com/yryo1005/my_survey\n",
      " * branch            main       -> FETCH_HEAD\n",
      "   5df0407..2c0bf96  main       -> origin/main\n",
      "Updating 5df0407..2c0bf96\n",
      "Fast-forward\n",
      " README.md | 2 \u001b[32m+\u001b[m\u001b[31m-\u001b[m\n",
      " 1 file changed, 1 insertion(+), 1 deletion(-)\n"
     ]
    }
   ],
   "source": [
    "!git pull origin main"
   ]
  },
  {
   "cell_type": "code",
   "execution_count": 1,
   "metadata": {},
   "outputs": [
    {
     "name": "stdout",
     "output_type": "stream",
     "text": [
      "[main 5651605] {}\n",
      " Committer: 川又翔 <kawamatashou@kawamatashounoMacBook-Pro.local>\n",
      "Your name and email address were configured automatically based\n",
      "on your username and hostname. Please check that they are accurate.\n",
      "You can suppress this message by setting them explicitly. Run the\n",
      "following command and follow the instructions in your editor to edit\n",
      "your configuration file:\n",
      "\n",
      "    git config --global --edit\n",
      "\n",
      "After doing this, you may fix the identity used for this commit with:\n",
      "\n",
      "    git commit --amend --reset-author\n",
      "\n",
      " 1 file changed, 0 insertions(+), 0 deletions(-)\n",
      " create mode 100644 aaa\n",
      "Counting objects: 3, done.\n",
      "Delta compression using up to 8 threads.\n",
      "Compressing objects: 100% (2/2), done.\n",
      "Writing objects: 100% (3/3), 294 bytes | 294.00 KiB/s, done.\n",
      "Total 3 (delta 1), reused 0 (delta 0)\n",
      "remote: Resolving deltas: 100% (1/1), completed with 1 local object.\u001b[K\n",
      "To https://github.com/K-nelt/sotuken.git\n",
      "   ae57133..5651605  main -> main\n"
     ]
    }
   ],
   "source": [
    "# 内容変更の後にやる\n",
    "!git add .\n",
    "!now=$(date +\"%Y%m%d%I%M\")\n",
    "!git commit -m \"{$now}\"\n",
    "!git push"
   ]
  },
  {
   "cell_type": "code",
   "execution_count": 2,
   "metadata": {},
   "outputs": [
    {
     "name": "stdout",
     "output_type": "stream",
     "text": [
      "remote: Enumerating objects: 9, done.\u001b[K\n",
      "remote: Counting objects: 100% (8/8), done.\u001b[K\n",
      "remote: Compressing objects: 100% (3/3), done.\u001b[K\n",
      "remote: Total 5 (delta 2), reused 3 (delta 2), pack-reused 0\u001b[K\n",
      "Unpacking objects: 100% (5/5), done.\n",
      "From https://github.com/K-nelt/sotuken\n",
      " * branch            main       -> FETCH_HEAD\n",
      "Updating 5651605..24fb325\n",
      "Fast-forward\n",
      " bbb               |  0\n",
      " git_command.ipynb | 10 \u001b[32m+++++\u001b[m\u001b[31m-----\u001b[m\n",
      " 2 files changed, 5 insertions(+), 5 deletions(-)\n",
      " create mode 100644 bbb\n"
     ]
    }
   ],
   "source": [
    "# 変更の更新\n",
    "!git pull https://github.com/K-nelt/sotuken.git main"
   ]
  }
 ],
 "metadata": {
  "kernelspec": {
   "display_name": "tf210_2",
   "language": "python",
   "name": "python3"
  },
  "language_info": {
   "codemirror_mode": {
    "name": "ipython",
    "version": 3
   },
   "file_extension": ".py",
   "mimetype": "text/x-python",
   "name": "python",
   "nbconvert_exporter": "python",
   "pygments_lexer": "ipython3",
   "version": "3.9.18"
  },
  "orig_nbformat": 4
 },
 "nbformat": 4,
 "nbformat_minor": 2
}
